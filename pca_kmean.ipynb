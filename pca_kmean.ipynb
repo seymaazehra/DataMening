{
  "nbformat": 4,
  "nbformat_minor": 0,
  "metadata": {
    "colab": {
      "name": "pca-kmean.ipynb",
      "provenance": [],
      "collapsed_sections": [],
      "include_colab_link": true
    },
    "kernelspec": {
      "name": "python3",
      "display_name": "Python 3"
    },
    "language_info": {
      "name": "python"
    }
  },
  "cells": [
    {
      "cell_type": "markdown",
      "metadata": {
        "id": "view-in-github",
        "colab_type": "text"
      },
      "source": [
        "<a href=\"https://colab.research.google.com/github/seymaazehra/DataMening/blob/main/pca_kmean.ipynb\" target=\"_parent\"><img src=\"https://colab.research.google.com/assets/colab-badge.svg\" alt=\"Open In Colab\"/></a>"
      ]
    },
    {
      "cell_type": "code",
      "execution_count": null,
      "metadata": {
        "colab": {
          "base_uri": "https://localhost:8080/"
        },
        "id": "AgoNzAhJZNPw",
        "outputId": "00ab8d81-d5c5-489e-c1f1-b2972670e1d0"
      },
      "outputs": [
        {
          "output_type": "stream",
          "name": "stdout",
          "text": [
            "Drive already mounted at /gdrive; to attempt to forcibly remount, call drive.mount(\"/gdrive\", force_remount=True).\n",
            "/gdrive\n"
          ]
        }
      ],
      "source": [
        "#importing requıred libraries\n",
        "from sklearn import datasets\n",
        "\n",
        "import pandas as pd\n",
        "import numpy as np\n",
        "from sklearn.feature_selection import SequentialFeatureSelector as sfs\n",
        "import numpy as np\n",
        "import matplotlib.pyplot as plt\n",
        "import pandas as pd\n",
        "#server a bağlanır\n",
        "from google.colab import drive\n",
        "drive.mount('/gdrive')\n",
        "%cd /gdrive"
      ]
    },
    {
      "cell_type": "code",
      "source": [
        "#okuma\n",
        "dataset = pd.read_csv('/gdrive/My Drive/pcaanaliz/Phishing_Legitimate_full.csv')\n",
        "\n",
        "#X giriş özellik , y etiket özellik otomatik ayrıldı\n",
        "X = dataset.drop(columns=['CLASS_LABEL'])\n",
        "y = dataset['CLASS_LABEL']"
      ],
      "metadata": {
        "id": "ru4Rhwf5Zwcx"
      },
      "execution_count": null,
      "outputs": []
    },
    {
      "cell_type": "code",
      "source": [
        "#splitting the X and  Y into the\n",
        "#training set and testing set\n",
        "from sklearn.model_selection import train_test_split\n",
        "\n",
        "X_train, X_test, y_train ,y_test = train_test_split(X,y,test_size=0.2, random_state=0)"
      ],
      "metadata": {
        "id": "oHUk3yXaZydO"
      },
      "execution_count": null,
      "outputs": []
    },
    {
      "cell_type": "code",
      "source": [
        "import pandas as pd\n",
        "import numpy as np \n",
        "import matplotlib.pyplot as plt\n",
        "from sklearn.cluster import KMeans"
      ],
      "metadata": {
        "id": "U5KH7MqwaiEz"
      },
      "execution_count": null,
      "outputs": []
    },
    {
      "cell_type": "code",
      "source": [
        "kmean.cluster_centers_  #4 tane merkez en yakın future ları toplar, gaussian karmasık problemlerde daha iyi\n",
        "#center a göre kümeler"
      ],
      "metadata": {
        "colab": {
          "base_uri": "https://localhost:8080/"
        },
        "id": "m_DBukd_looy",
        "outputId": "af7525ca-f070-43a6-c500-035cee06a077"
      },
      "execution_count": null,
      "outputs": [
        {
          "output_type": "execute_result",
          "data": {
            "text/plain": [
              "array([[6699.40952008, 1114.72231   , 3612.88842841],\n",
              "       [2148.1096801 , 4926.22681815, 1603.53967393],\n",
              "       [1090.48425386, 6826.3200102 , 3950.2114869 ],\n",
              "       [4304.37883219, 2727.52783915,  873.46213905]])"
            ]
          },
          "metadata": {},
          "execution_count": 141
        }
      ]
    },
    {
      "cell_type": "code",
      "source": [
        "kmean=KMeans(n_clusters= 4) #3 tane future cıkarır, azsa o kadar iyi\n",
        "\n",
        "X_train = kmean.fit_transform(X_train)\n",
        "X_test = kmean.transform(X_test)"
      ],
      "metadata": {
        "id": "YTasJuSYeFeS"
      },
      "execution_count": null,
      "outputs": []
    },
    {
      "cell_type": "code",
      "source": [
        "X_train.shape"
      ],
      "metadata": {
        "colab": {
          "base_uri": "https://localhost:8080/"
        },
        "id": "5YB2H3q1amaC",
        "outputId": "66401067-a783-417c-ffc0-c1378789fee9"
      },
      "execution_count": null,
      "outputs": [
        {
          "output_type": "execute_result",
          "data": {
            "text/plain": [
              "(8000, 4)"
            ]
          },
          "metadata": {},
          "execution_count": 143
        }
      ]
    },
    {
      "cell_type": "code",
      "source": [
        "kmean.labels_"
      ],
      "metadata": {
        "colab": {
          "base_uri": "https://localhost:8080/"
        },
        "id": "WWadApXGatZU",
        "outputId": "1cecee33-b7c8-4252-802c-9c58d7769550"
      },
      "execution_count": null,
      "outputs": [
        {
          "output_type": "execute_result",
          "data": {
            "text/plain": [
              "array([1, 1, 2, ..., 0, 1, 2], dtype=int32)"
            ]
          },
          "metadata": {},
          "execution_count": 144
        }
      ]
    },
    {
      "cell_type": "code",
      "source": [
        "#rastgele orman metodu ,birden fazla ağactan olusur\n",
        "from sklearn.ensemble import RandomForestClassifier\n",
        "\n",
        "clf=RandomForestClassifier(n_estimators=3) #karmsık oldugu zaman arrttır \n",
        "\n",
        "clf = clf.fit(X_train,y_train)\n",
        "\n",
        "y_pred = clf.predict(X_test)"
      ],
      "metadata": {
        "id": "2rvP8ovabZWv"
      },
      "execution_count": null,
      "outputs": []
    },
    {
      "cell_type": "code",
      "source": [
        "from sklearn import metrics \n",
        "print(\"dogrulama: \",metrics.accuracy_score(y_test,y_pred))"
      ],
      "metadata": {
        "colab": {
          "base_uri": "https://localhost:8080/"
        },
        "id": "wPUNEesXbBGt",
        "outputId": "f915ba73-46ad-4f03-b992-d07a2d1cba80"
      },
      "execution_count": null,
      "outputs": [
        {
          "output_type": "stream",
          "name": "stdout",
          "text": [
            "dogrulama:  0.9995\n"
          ]
        }
      ]
    }
  ]
}