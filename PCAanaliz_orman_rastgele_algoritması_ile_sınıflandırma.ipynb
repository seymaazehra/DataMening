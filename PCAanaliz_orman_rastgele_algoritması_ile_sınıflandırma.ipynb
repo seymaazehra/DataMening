{
  "nbformat": 4,
  "nbformat_minor": 0,
  "metadata": {
    "colab": {
      "name": "PCAanaliz-orman_rastgele_algoritması_ile_sınıflandırma.ipynb",
      "provenance": [],
      "authorship_tag": "ABX9TyP7k0Xt/ierovttVRlAXD4t",
      "include_colab_link": true
    },
    "kernelspec": {
      "name": "python3",
      "display_name": "Python 3"
    },
    "language_info": {
      "name": "python"
    }
  },
  "cells": [
    {
      "cell_type": "markdown",
      "metadata": {
        "id": "view-in-github",
        "colab_type": "text"
      },
      "source": [
        "<a href=\"https://colab.research.google.com/github/seymaazehra/DataMening/blob/main/PCAanaliz_orman_rastgele_algoritmas%C4%B1_ile_s%C4%B1n%C4%B1fland%C4%B1rma.ipynb\" target=\"_parent\"><img src=\"https://colab.research.google.com/assets/colab-badge.svg\" alt=\"Open In Colab\"/></a>"
      ]
    },
    {
      "cell_type": "code",
      "execution_count": null,
      "metadata": {
        "id": "aQ-jAeBJOPFp",
        "colab": {
          "base_uri": "https://localhost:8080/"
        },
        "outputId": "24dea8b2-fb5c-4c0e-9694-6a3a67aa908d"
      },
      "outputs": [
        {
          "output_type": "stream",
          "name": "stdout",
          "text": [
            "Drive already mounted at /gdrive; to attempt to forcibly remount, call drive.mount(\"/gdrive\", force_remount=True).\n",
            "/gdrive\n"
          ]
        }
      ],
      "source": [
        "#importing requıred libraries\n",
        "from sklearn import datasets\n",
        "\n",
        "import pandas as pd\n",
        "import numpy as np\n",
        "from sklearn.feature_selection import SequentialFeatureSelector as sfs\n",
        "import numpy as np\n",
        "import matplotlib.pyplot as plt\n",
        "import pandas as pd\n",
        "#server a bağlanır\n",
        "from google.colab import drive\n",
        "drive.mount('/gdrive')\n",
        "%cd /gdrive"
      ]
    },
    {
      "cell_type": "code",
      "source": [
        "#okuma\n",
        "dataset = pd.read_csv('/gdrive/My Drive/pcaanaliz/Phishing_Legitimate_full.csv')\n",
        "\n",
        "#X giriş özellik , y etiket özellik otomatik ayrıldı\n",
        "X = dataset.drop(columns=['CLASS_LABEL'])\n",
        "y = dataset['CLASS_LABEL']\n"
      ],
      "metadata": {
        "id": "O0EOCa2gOoWj"
      },
      "execution_count": null,
      "outputs": []
    },
    {
      "cell_type": "code",
      "source": [
        "#splitting the X and  Y into the\n",
        "#training set and testing set\n",
        "from sklearn.model_selection import train_test_split\n",
        "\n",
        "X_train, X_test, y_train ,y_test = train_test_split(X,y,test_size=0.2, random_state=0)\n"
      ],
      "metadata": {
        "id": "XizUeS2KPrOk"
      },
      "execution_count": null,
      "outputs": []
    },
    {
      "cell_type": "code",
      "source": [
        "from sklearn.preprocessing import StandardScaler\n",
        "sc=StandardScaler()\n",
        "\n",
        "\n",
        "X_train = sc.fit_transform(X_train)\n",
        "X_test = sc.transform(X_test)\n",
        "\n"
      ],
      "metadata": {
        "id": "u9K-qPETTi5C"
      },
      "execution_count": null,
      "outputs": []
    },
    {
      "cell_type": "code",
      "source": [
        "\n",
        "from sklearn.decomposition import PCA\n",
        "#pca fonksiyonu\n",
        "pca=PCA(n_components= 2)\n",
        "\n",
        "X_train = pca.fit_transform(X_train)\n",
        "X_test = pca.transform(X_test)\n",
        "\n",
        "explained_variance = pca.explained_variance_ratio_"
      ],
      "metadata": {
        "id": "7lrfMdowd79X"
      },
      "execution_count": null,
      "outputs": []
    },
    {
      "cell_type": "code",
      "source": [
        "#rastgele orman metodu\n",
        "from sklearn.ensemble import RandomForestClassifier\n",
        "\n",
        "clf=RandomForestClassifier(n_estimators=100)\n",
        "\n",
        "clf = clf.fit(X_train,y_train)\n",
        "\n",
        "y_pred = clf.predict(X_test)"
      ],
      "metadata": {
        "id": "gaqZRIjURuv9"
      },
      "execution_count": null,
      "outputs": []
    },
    {
      "cell_type": "code",
      "source": [
        "#model accuracy , how often is the classifier correct?\n",
        "from sklearn import metrics \n",
        "print(\"dogrulama: \",metrics.accuracy_score(y_test,y_pred))"
      ],
      "metadata": {
        "colab": {
          "base_uri": "https://localhost:8080/"
        },
        "id": "ZytTIEy0S8E5",
        "outputId": "30d25b77-11c8-44d8-f985-6f44f34bb5a9"
      },
      "execution_count": null,
      "outputs": [
        {
          "output_type": "stream",
          "name": "stdout",
          "text": [
            "dogrulama:  0.758\n"
          ]
        }
      ]
    }
  ]
}